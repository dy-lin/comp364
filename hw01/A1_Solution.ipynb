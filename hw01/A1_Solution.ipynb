{
 "cells": [
  {
   "cell_type": "markdown",
   "metadata": {},
   "source": [
    "# COMP 364 - Computer Tools for Life Sciences\n",
    "## Homework #1\n",
    "Instructors: Christopher J.F. Cameron and Carlos G. Oliver\n",
    "\n",
    "**Due:  Friday, September 29th 2017 at 11:59:59 pm**\n",
    "\n",
    "In this assignment, you will learn how to implement a rudimentry profile or position weight matrix (PWM) from DNA sequences and then scan a separate DNA sequence for possible motif hits.\n",
    "\n",
    "## Computational hints\n",
    "\n",
    "Python programming visualizer: http://www.pythontutor.com/visualize.html#mode=edit\n",
    "\n",
    "All programming concepts are drawn from lectures up to and including 'Putting it together: Nested loops and conditionals'"
   ]
  },
  {
   "cell_type": "markdown",
   "metadata": {},
   "source": [
    "## Biology motivation/context\n",
    "\n",
    "From last week's lectures, we now know that there is a transfer of genetic information that occurs within cells from DNA-->RNA-->protein (called the central dogma of biology). In reality, this process is much more complicated as described in the figure below:\n",
    "\n",
    "<img src=\"images/central_dogma.png\" width=\"300\">\n",
    "<image source: https://www.quora.com/What-is-the-central-dogma-of-molecular-biology-Is-it-true (September 16th, 2017)>\n",
    "\n",
    "If you are unfamiliar with the central dogma, we would recommend you review these documents:\n",
    "\n",
    "https://en.wikipedia.org/wiki/Central_dogma_of_molecular_biology\n",
    "\n",
    "https://www.khanacademy.org/test-prep/mcat/biomolecules/amino-acids-and-proteins1/v/central-dogma-of-molecular-biology-2\n",
    "\n",
    "To help control the act of transcription (the transfer of genetic information from DNA to RNA), cells employ a set of proteins (called transcription factors) that are known to bind near genes and regulate their expression (e.g., the rate at which they are transcribed into RNA). We are able to observe the activity of transcription factors by using a technology called chromatin immunoprecipitation (or ChIP). This technology uses a targeted antibody to select for pieces of DNA that are bound by transcription factors (see figure below).\n",
    "\n",
    "<img src=\"images/chip_tech.png\" width=\"300\">\n",
    "<image adapted from: https://www.researchgate.net/figure/222384404_fig1_Fig-1-Schematic-representation-of-the-chromatin-immunoprecipitation-procedure-The (September 16th, 2017)>\n",
    "\n",
    "The minute (or low level) details about ChIP technology are outside the scope of this course, but you must understand that the result of a ChIP protocol is a collection of DNA sequences that were bound by a specific protein of interest (i.e., a transcription factor).\n",
    "\n",
    "If you would like to learn more about ChIP technology, please see the following links:\n",
    "\n",
    "https://en.wikipedia.org/wiki/ChIP-sequencing\n",
    "\n",
    "http://bitesizebio.com/13541/an-introduction-to-chip-seq/\n",
    "\n",
    "Now the problem we have to address is that we have a collection of DNA sequences that were bound by a protein of interest, but we don't know the specific location where the protein attached to DNA. This is called the motif discovery problem, where:\n",
    "\n",
    "&nbsp;&nbsp;&nbsp;&nbsp;&nbsp;Given a collection of DNA sequences that were bound by a protein of interest, identify the motif (or binding site) of the protein.\n",
    "\n",
    "Some of you may already be familiar with motifs and have seen examples visualized in a sequence logo:\n",
    "\n",
    "<img src=\"images/motif.png\" width=\"350\">\n",
    "<image source: https://openi.nlm.nih.gov/detailedresult.php?img=PMC3239296_1471-213X-11-59-3&req=4 (September 16th, 2017)>\n",
    "\n",
    "A sequence logo represents of a stack of letters (DNA nucleotides) at each position of the motif (or binding site). The relative sizes of the nucleotides indicate their frequency of representation in the collection of DNA sequences obtained from the ChIP protocol. While the total height of the letters depicts the information content of the position, in bits (a unit that you all should be familiar with now).\n",
    "\n",
    "In the upper-left panel of the figure above, we see that the binding motif of E-box is 11 nucleotides long. We see that positions 6, 7, 8, and 11 have to be nucleotides C, A, G, and G, respectively. While other positions can be multiple nucleotides or have no information about them (position 3).\n",
    "\n",
    "A profile or position weight matrix (PWM) is another way to represent the binding site of a protein that was observed to be bound to DNA. In this assignment, we will implement a PWM using only loops, lists/tuples, conditional statements, and minor arithmetic.\n",
    "\n",
    "Let's start by remembering how to declare an empty list."
   ]
  },
  {
   "cell_type": "code",
   "execution_count": 3,
   "metadata": {
    "collapsed": true
   },
   "outputs": [],
   "source": [
    "# definition of an empty list\n",
    "empty_list = [] # or list()"
   ]
  },
  {
   "cell_type": "markdown",
   "metadata": {},
   "source": [
    "Now, let's do something a little more useful (and biologically more relevant). Define a list object, called 'nucleotides', that contains single character representations of all possible DNA nucleotides ('A', 'C', 'G', 'T')."
   ]
  },
  {
   "cell_type": "code",
   "execution_count": 4,
   "metadata": {
    "collapsed": true
   },
   "outputs": [],
   "source": [
    "# define list of DNA nucleotides\n",
    "nucleotides = [ \"A\", \"C\", \"G\", \"T\" ]"
   ]
  },
  {
   "cell_type": "markdown",
   "metadata": {},
   "source": [
    "With a list of nucleotides defined, we can now implement some concepts that were introduced in class. \n",
    "\n",
    "First, let's create a loop (either for or while) that iterates over each item in the 'nucleotides' list and prints the item's value & index. \n",
    "\n",
    "a) Using the built-in enumerate function ** (2.5 marks) **"
   ]
  },
  {
   "cell_type": "code",
   "execution_count": 5,
   "metadata": {},
   "outputs": [
    {
     "name": "stdout",
     "output_type": "stream",
     "text": [
      "index:  0 value:  A\n",
      "index:  1 value:  C\n",
      "index:  2 value:  G\n",
      "index:  3 value:  T\n"
     ]
    }
   ],
   "source": [
    "# create a loop that iterates over each item in the list and prints out the item's index & value using enumerate()\n",
    "for index, nucleotide in enumerate(nucleotides):\n",
    "    print(\"index: \",index,\"value: \",nucleotide)"
   ]
  },
  {
   "cell_type": "markdown",
   "metadata": {},
   "source": [
    "b) Using the built-in index method ** (2.5 marks) **"
   ]
  },
  {
   "cell_type": "code",
   "execution_count": 6,
   "metadata": {},
   "outputs": [
    {
     "name": "stdout",
     "output_type": "stream",
     "text": [
      "index:  0 value:  A\n",
      "index:  1 value:  C\n",
      "index:  2 value:  G\n",
      "index:  3 value:  T\n"
     ]
    }
   ],
   "source": [
    "# create a loop that iterates over each item in the list and prints out the item's index & value using index()\n",
    "for nucleotide in nucleotides:\n",
    "    print(\"index: \",nucleotides.index(nucleotide),\"value: \",nucleotide)"
   ]
  },
  {
   "cell_type": "markdown",
   "metadata": {},
   "source": [
    "Let's pretend we have just performed a ChIP protocol and observed the following six DNA sequences to be bound by our protein of interest (protein 'X'). Real ChIP-seq DNA sequences can be much longer, but for practicality, we'll limit them to jus six nucleotides."
   ]
  },
  {
   "cell_type": "code",
   "execution_count": 7,
   "metadata": {
    "collapsed": true
   },
   "outputs": [],
   "source": [
    "# list of observed sequences where transcription factor binds\n",
    "ChIP_seqs = [ \"ACGTGA\", \"ACGGGA\", \"ACGCCC\", \"ACAGAT\", \"GATAGA\", \"ACGTTA\" ]"
   ]
  },
  {
   "cell_type": "markdown",
   "metadata": {},
   "source": [
    "We now want to determine the frequency (how often) at which each nucleotide is bound at a given position in the motif. Remember, each sequence represents a single observation of the protein's binding motif/site. How many positions are there in the above motif? (complete the code below) ** (2.5 marks) **"
   ]
  },
  {
   "cell_type": "code",
   "execution_count": 8,
   "metadata": {},
   "outputs": [
    {
     "name": "stdout",
     "output_type": "stream",
     "text": [
      "motif size: 6\n"
     ]
    }
   ],
   "source": [
    "motif_size = len(ChIP_seqs[0])\n",
    "print(\"motif size:\",motif_size)"
   ]
  },
  {
   "cell_type": "markdown",
   "metadata": {},
   "source": [
    "For each position in the motif, we need to count the frequency of occurence for each possible nucleotide. We're going to start with just the first column and then you will implement a pair of nested loops to complete the PWM. ** (10 marks) **"
   ]
  },
  {
   "cell_type": "code",
   "execution_count": 9,
   "metadata": {},
   "outputs": [
    {
     "name": "stdout",
     "output_type": "stream",
     "text": [
      "nucleotide counts for position one: [5, 0, 1, 0]\n"
     ]
    }
   ],
   "source": [
    "# declare an empty list for the position weight matrix (PWM) of observed sequences\n",
    "PWM = []\n",
    "\n",
    "# define a list that contains the frequency counts for each nucleotide in the first column\n",
    "nucleotide_counts = [0, 0, 0, 0] # [A, C, G, T] - note: the order is the same as our nucleotides list object above\n",
    "\n",
    "# iterate over each DNA sequence in the list of observed DNA sequences\n",
    "for DNA_seq in ChIP_seqs:\n",
    "    # obtain the current observed nucleotide in the first position\n",
    "    curr_nucleotide = DNA_seq[0]\n",
    "    # now we can either use conditional statements or the index() function to keep track of nucleotides\n",
    "    nucleotide_index = nucleotides.index(curr_nucleotide)\n",
    "    # add one to the frequency count for the current nucleotide in the first position\n",
    "    nucleotide_counts[nucleotide_index] += 1\n",
    "\n",
    "# print out the nucleotide counts\n",
    "print(\"nucleotide counts for position one:\",nucleotide_counts)"
   ]
  },
  {
   "cell_type": "markdown",
   "metadata": {},
   "source": [
    "Now we will expand our code and apply it to all positions of the motif (hint: you will need a loop). ** (10 marks) **"
   ]
  },
  {
   "cell_type": "code",
   "execution_count": 10,
   "metadata": {
    "collapsed": true
   },
   "outputs": [],
   "source": [
    "# declare an empty list for the position weight matrix (PWM) of observed sequences\n",
    "PWM = []\n",
    "\n",
    "# iterate over each position in the observed DNA sequences (hint: you can choose to use the range())\n",
    "for position in range(motif_size):\n",
    "    # list contains the counts of nucleotides for current column\n",
    "    nucleotide_counts=[0, 0, 0, 0]\n",
    "    # you can now reuse your code from the previous block (with minor adjustments)\n",
    "    for DNA_seq in ChIP_seqs:\n",
    "        curr_nucleotide = DNA_seq[position]\n",
    "        nucleotide_index = nucleotides.index(curr_nucleotide)\n",
    "        nucleotide_counts[nucleotide_index] += 1\n",
    "    # append the current nucleotide counts to the PWM list object\n",
    "    PWM.append(nucleotide_counts)"
   ]
  },
  {
   "cell_type": "markdown",
   "metadata": {},
   "source": [
    "If you have implemented the above code correctly, you should have a two-dimensional list (or a list of lists) containing frequency counts for each nucleotide at a given position in the motif. We would like to represent this in a useful table format such as:\n",
    "\n",
    "Position | A | C | G | T |\n",
    ":---: | :---: | :---: | :---: | :---:\n",
    "1 | $A_{1}$ | $C_{1}$ | $G_{1}$ | $T_{1}$ |\n",
    "2 | $A_{2}$ | $C_{2}$ | $G_{2}$ | $T_{2}$ |\n",
    "3 | $A_{3}$ | $C_{3}$ | $G_{3}$ | $T_{3}$ |\n",
    "4 | $A_{4}$ | $C_{4}$ | $G_{4}$ | $T_{4}$ |\n",
    "5 | $A_{5}$ | $C_{5}$ | $G_{5}$ | $T_{5}$ |\n",
    "6 | $A_{6}$ | $C_{6}$ | $G_{6}$ | $T_{6}$ |\n",
    "\n",
    "Where $A_{1}$ is the frequency count of A at position 1, $A_{2}$ is the frequency count of A at position 2, and so on.\n",
    "\n",
    "This table is called the absolute frequency matrix or position frequency matrix (PFM).\n",
    "\n",
    "To do this, we will write a loop that iterates over the two-dimensional list and prints each position's information. Note: Your table should be informative and easy to read (but it doesn't have to be perfect - i.e., don't waste your time making it look too fancy). ** (10 marks) **"
   ]
  },
  {
   "cell_type": "code",
   "execution_count": 11,
   "metadata": {},
   "outputs": [
    {
     "name": "stdout",
     "output_type": "stream",
     "text": [
      "Position\tA\tC\tG\tT\n",
      "\t1\t5\t0\t1\t0\n",
      "\t2\t1\t5\t0\t0\n",
      "\t3\t1\t0\t4\t1\n",
      "\t4\t1\t1\t2\t2\n",
      "\t5\t1\t1\t3\t1\n",
      "\t6\t4\t1\t0\t1\n"
     ]
    }
   ],
   "source": [
    "# iterate over each position in the list object\n",
    "print(\"\\t\".join([\"Position\",\"A\",\"C\",\"G\",\"T\"]))\n",
    "for position, freqs in enumerate(PWM,1):\n",
    "    print(\"\\t\".join([\"\\t\"+str(position)]+[str(val) for val in freqs]))"
   ]
  },
  {
   "cell_type": "markdown",
   "metadata": {},
   "source": [
    "What should the nucleotide frequency counts in each row of your table sum to? **(2.5 marks)**\n",
    "\n",
    "6\n",
    "\n",
    "### Sequence logo creation (5 marks)\n",
    "\n",
    "Go to: http://ccg.vital-it.ch/pwmtools/pwmscan.php#\n",
    "\n",
    "Follow the instructions on the webpage and create a sequence logo of your PFM. All that should be required of you is the following:\n",
    "\n",
    "* set custom weight matrix format\n",
    "* paste your PFM into the text field\n",
    "* click submit\n",
    "\n",
    "Once the page loads you should see a sequence logo of your PFM on the right-side of the screen. Right-click and save the image in the COMP364 HW1's subfolder called 'images'.\n",
    "\n",
    "Create a Markdown box below this text or insert beneath this text the sequence logo using the following command:\n",
    "\n",
    "&nbsp;&nbsp;&nbsp;&nbsp;&nbsp;`<`img src=\"images/your_file_name.png\" width=\"250\"`>`\n",
    "\n",
    "Replace 'your_file_name.png' with your sequence logo's filename.\n",
    "\n",
    "<img src=\"images/sequence_logo.png\" width=\"250\">"
   ]
  },
  {
   "cell_type": "markdown",
   "metadata": {},
   "source": [
    "### Position probability matrices (PPM)\n",
    "\n",
    "Typically, PWMs are calculated as the log-likelihood ratio matrix, where $A_{1}$ represents the log-ratio of the relative frequency to the background frequency for nucleotide 'A' at position 1.\n",
    "\n",
    "First, we'll start by calculating the relative frequencies and creating the position probability matrix (PPM). To do this we will convert the absolute frequency counts to probabilities.\n",
    "\n",
    "How do we convert absolute frequencies to probabilites?\n",
    "\n",
    "Let's define some mathematical notation:\n",
    "\n",
    "&nbsp;&nbsp;&nbsp;&nbsp;&nbsp;$M$ will be the PPM\n",
    "\n",
    "&nbsp;&nbsp;&nbsp;&nbsp;&nbsp;$M_{i,j}$ is the probability of nucleotide $i$ occuring at position $j$ of the PPM\n",
    "\n",
    "&nbsp;&nbsp;&nbsp;&nbsp;&nbsp;$N$ is the number of DNA sequences observed to be bound by the protein of interest\n",
    "\n",
    "&nbsp;&nbsp;&nbsp;&nbsp;&nbsp;$X_{k,j}$ is the observed nucleotide at position $j$ of observed DNA sequence $k$ \n",
    "\n",
    "By using this notation, we can define $M_{i,j}$ as a function of $X_{k,j}$ such that:\n",
    "\n",
    "$$M_{i,j}=\\frac{1}{N}\\sum_{k=1}^{N}I\\left(X_{k,j}=i\\right)$$\n",
    "\n",
    "&nbsp;&nbsp;&nbsp;&nbsp;&nbsp;Where $I()$ returns 1 if $X_{k,j}=i$ and 0 otherwise\n",
    "\n",
    "For anyone unfamiliar with summation notation, sigma ($\\sum$) is the standard for writing long sums. For example, let's sum all of the digits present in the decimal system.\n",
    "\n",
    "$$0+1+2+3+4+5+6+7+8+9=45$$\n",
    "\n",
    "This can be represented as:\n",
    "\n",
    "$$\\sum_{i=0}^{9}i=0+1+2+3+4+5+6+7+8+9=45$$\n",
    "\n",
    "'$\\sum_{i=0}^{9}i$' denotes that we sum all $i$ starting at $i=0$, incrememnt by 1, until we reach $i=9$.\n",
    "\n",
    "If we wanted to represent this as a for loop in Python, it would be:"
   ]
  },
  {
   "cell_type": "code",
   "execution_count": 12,
   "metadata": {},
   "outputs": [
    {
     "name": "stdout",
     "output_type": "stream",
     "text": [
      "45\n"
     ]
    }
   ],
   "source": [
    "total = 0 # why are we not naming the variable 'sum'?\n",
    "for i in range(10):\n",
    "    total += i\n",
    "print(total)"
   ]
  },
  {
   "cell_type": "markdown",
   "metadata": {},
   "source": [
    "In practice (and as you will find), implementing the conversion from absolute frequency to a probability is relatively easy. Complete the code below to create a PPM (can be accomplished with as little as two lines of code). ** (10 marks) **\n",
    "\n",
    "Tip - use round() to limit the number of digits after the decimal point when printing the table. See the following link for more information: https://docs.python.org/3.6/library/functions.html#round"
   ]
  },
  {
   "cell_type": "code",
   "execution_count": 13,
   "metadata": {},
   "outputs": [
    {
     "name": "stdout",
     "output_type": "stream",
     "text": [
      "Position\tA\tC\tG\tT\n",
      "\t1\t0.833\t0.0\t0.167\t0.0\n",
      "\t2\t0.167\t0.833\t0.0\t0.0\n",
      "\t3\t0.167\t0.0\t0.667\t0.167\n",
      "\t4\t0.167\t0.167\t0.333\t0.333\n",
      "\t5\t0.167\t0.167\t0.5\t0.167\n",
      "\t6\t0.667\t0.167\t0.0\t0.167\n"
     ]
    }
   ],
   "source": [
    "# iterate over each position in the list object\n",
    "N = float(motif_size)\n",
    "for position, freqs in enumerate(PWM):\n",
    "    PWM[position] = [freq/N for freq in freqs]\n",
    "\n",
    "# iterate over each position in the list object\n",
    "print(\"\\t\".join([\"Position\",\"A\",\"C\",\"G\",\"T\"]))\n",
    "for position, freqs in enumerate(PWM,1):\n",
    "    print(\"\\t\".join([\"\\t\"+str(position)]+[str(round(val,3)) for val in freqs]))"
   ]
  },
  {
   "cell_type": "markdown",
   "metadata": {},
   "source": [
    "What should each row of your table sum to now? **(2.5 marks)**\n",
    "\n",
    "1.0\n",
    "\n",
    "### Likelihoods\n",
    "\n",
    "Now that we have a PPM calculated, we can define the likelihood of observing a specific DNA sequences within the motif. Or in other words, if we give you a DNA sequence of 6 nucleotides, what is the probability that the protein of interest will bind it?\n",
    "\n",
    "For example, we observed the DNA sequence 'GTAGTA'. The likelihood, $L$, of of this sequence being bound by our protein of interest is:\n",
    "\n",
    "$$ L(seq\\ |\\ M) = M_{G,1} \\times M_{T,2} \\times M_{A,3} \\times M_{G,4} \\times M_{T,5} \\times M_{A,6} $$\n",
    "\n",
    "What is the likelihood of observing the following sequences? **( 1 mark each for correct answers) ** \n",
    "\n",
    "a) CGTAGT = 0.0\n",
    "\n",
    "b) ACGTAA = 0.017146776406035666\n",
    "\n",
    "c) AAAAAA = 0.00042866941015089156\n",
    "\n",
    "(hint: fill in the code below to detemine the likelihood of observing the above sequences) ** (7 marks for correct implementation) **"
   ]
  },
  {
   "cell_type": "code",
   "execution_count": 14,
   "metadata": {},
   "outputs": [
    {
     "name": "stdout",
     "output_type": "stream",
     "text": [
      "likelihood of 'CGTAGT': 0.0\n"
     ]
    }
   ],
   "source": [
    "# define sequence to calculate likelihood of\n",
    "sequence = \"CGTAGT\"\n",
    "\n",
    "# define initial likelihood\n",
    "likelihood = 1.0\n",
    "\n",
    "# iterate over nucleotides in sequence\n",
    "for position_index, nucleotide in enumerate(sequence):\n",
    "    nucleotide_index = nucleotides.index(nucleotide)\n",
    "    likelihood *= PWM[position_index][nucleotide_index]\n",
    "    \n",
    "print(\"likelihood of '\"+sequence+\"':\",likelihood)"
   ]
  },
  {
   "cell_type": "markdown",
   "metadata": {},
   "source": [
    "This is a useful program to calculate likelihoods that you have created, but it's not very practical. Add user functionality to the code: **(10 marks)**\n",
    "\n",
    "* continually prompt the user for a string containing a DNA sequence\n",
    "* ensure that the provided string is valid to have the likelihood calculated (print a useful error message if it does not)\n",
    "* then calculate the likelihood"
   ]
  },
  {
   "cell_type": "code",
   "execution_count": 15,
   "metadata": {},
   "outputs": [
    {
     "name": "stdout",
     "output_type": "stream",
     "text": [
      "Please provide a DNA sequence: ACGTAA\n",
      "likelihood of 'ACGTAA': 0.017146776406035666\n",
      "Please provide a DNA sequence: AAAAAA\n",
      "likelihood of 'AAAAAA': 0.00042866941015089156\n",
      "Please provide a DNA sequence: NNNN\n",
      "Error - DNA sequence must be 6 nucleotides long\n",
      "Error - Invalid nucleotide, 'N' encountered\n"
     ]
    }
   ],
   "source": [
    "DNA_sequence_is_valid = True\n",
    "while DNA_sequence_is_valid :\n",
    "    # prompt user for DNA sequence\n",
    "    DNA_sequence = input(\"Please provide a DNA sequence: \").upper().strip()\n",
    "    \n",
    "    # check that length of the string is equal to 6\n",
    "    if( not len(DNA_sequence) == 6 ):\n",
    "        print(\"Error - DNA sequence must be 6 nucleotides long\")\n",
    "        DNA_sequence_is_valid = False\n",
    "    \n",
    "    # check that nucleotides are valid\n",
    "    for nucleotide in DNA_sequence:\n",
    "        if( not nucleotide in nucleotides ):\n",
    "            print(\"Error - Invalid nucleotide, '\"+nucleotide+\"' encountered\")\n",
    "            DNA_sequence_is_valid = False\n",
    "            break\n",
    "    \n",
    "    if( not DNA_sequence_is_valid ):\n",
    "        continue\n",
    "    \n",
    "    # define initial likelihood\n",
    "    likelihood = 1.0\n",
    "\n",
    "    # iterate over nucleotides in sequence\n",
    "    for position_index, nucleotide in enumerate(DNA_sequence):\n",
    "        nucleotide_index = nucleotides.index(nucleotide)\n",
    "        likelihood *= PWM[position_index][nucleotide_index]\n",
    "    \n",
    "    print(\"likelihood of '\"+DNA_sequence+\"':\",likelihood)"
   ]
  },
  {
   "cell_type": "markdown",
   "metadata": {},
   "source": [
    "### Position weight matrices (PWM)\n",
    "\n",
    "Finally, we will now convert our PPM to a PWM by calculating the log2-ratio between the observed probabilities (found in the PPM) and the background probability. For simplicity, we will assume each nucleotide occurs with an equal probability or:\n",
    "\n",
    "$$p_{i}=\\frac{1}{|i|}$$\n",
    "\n",
    "&nbsp;&nbsp;&nbsp;&nbsp;&nbsp;Where $|i|$ is the size of our nucleotide alphabet.\n",
    "\n",
    "What should the background frequncy be for any given nucleotide? **(2.5 marks)**\n",
    "\n",
    "$\\frac{1}{4}=0.25$\n",
    "\n",
    "Now we will calculate the PWM by calculating the log2-ratio between the PPM's probabilities and the background probability, where:\n",
    "\n",
    "$$ PWM_{i,j} = log_{2}(\\frac{M_{i,j}}{p_{i}})$$\n",
    "\n",
    "\n",
    "Again this is relatively easy and can be done in a few lines of code. **( 10 marks) **\n",
    "\n",
    "To help with the log2 transformation, we will import the Python math module (more on modules in the future) and use the math.log2() function. This function accepts a numerical object as input and returns the base-2 logarithm applied to the input. See the following link for more information: https://docs.python.org/3.4/library/math.html\n",
    "\n",
    "You may encounter problems when taking the log2() of some ratios (i.e., log2(0) is negative infinity and zero divided by any number is undefined). This can be avoided by either using conditional statements or adding +1 to each ratio (feel free to choose either)."
   ]
  },
  {
   "cell_type": "code",
   "execution_count": 17,
   "metadata": {},
   "outputs": [
    {
     "name": "stdout",
     "output_type": "stream",
     "text": [
      "Position\tA\tC\tG\tT\n",
      "\t1\t2.115\t0.0\t0.737\t0.0\n",
      "\t2\t0.737\t2.115\t0.0\t0.0\n",
      "\t3\t0.737\t0.0\t1.874\t0.737\n",
      "\t4\t0.737\t0.737\t1.222\t1.222\n",
      "\t5\t0.737\t0.737\t1.585\t0.737\n",
      "\t6\t1.874\t0.737\t0.0\t0.737\n"
     ]
    }
   ],
   "source": [
    "import math\n",
    "\n",
    "# iterate over each position in the list object\n",
    "for position, freqs in enumerate(PWM):\n",
    "    # divide by the backgound probability and calculate the log2 ratio\n",
    "    PWM[position] = [math.log2((freq/0.25)+1) for freq in freqs]\n",
    "\n",
    "# iterate over each position in the list object\n",
    "print(\"\\t\".join([\"Position\",\"A\",\"C\",\"G\",\"T\"]))\n",
    "for position, freqs in enumerate(PWM,1):\n",
    "    print(\"\\t\".join([\"\\t\"+str(position)]+[str(round(val,3)) for val in freqs]))"
   ]
  },
  {
   "cell_type": "markdown",
   "metadata": {},
   "source": [
    "### Motif scanning\n",
    "\n",
    "Another use for PWMs is to search for occurrences of the motif in a given DNA sequence. To do this we use what is called a sliding window approach.\n",
    "\n",
    "For example, we observe a DNA sequence of size 10 using a window of size 3.\n",
    "\n",
    "&nbsp;&nbsp;&nbsp;&nbsp;&nbsp;DNA sequence = ACGTACTATT\n",
    "\n",
    "&nbsp;&nbsp;&nbsp;&nbsp;&nbsp;Windows of size 3 = [ACG], [CGT], [GTA], [TAC], [CTA], [TAT], [ATT]\n",
    "\n",
    "In this context, the first instance of the sliding window will observe nucleotides 0-2, the second instance will then observe nucleotides 1-3, and so on. The window continues to slide along the DNA sequence until it reaches the end.\n",
    "\n",
    "For each window, we will calculate a score (similar to the likelihood) that we define as the following:\n",
    "\n",
    "$$score_{s} = \\sum_{j=1}^{N}PWM_{s,j}$$\n",
    "\n",
    "&nbsp;&nbsp;&nbsp;&nbsp;&nbsp;Where $s$ is the observed nucleotide in the DNA sequence located at position $j$ of the PWM.\n",
    " \n",
    "Given the defined list object below containing a random DNA sequence, identify all posible locations (above a given score threshold) where the protein may bind and sore hits based on the log2-ratio. Provide the total number of hits as well as the DNA index for the start and score of each window. ** (15 marks) **\n",
    "\n",
    "For example:\n",
    "\n",
    "&nbsp;&nbsp;&nbsp;&nbsp;&nbsp;total number of hits: ???\n",
    "\n",
    "&nbsp;&nbsp;&nbsp;&nbsp;&nbsp;DNA index: ??\t(score)\n",
    "\n",
    "&nbsp;&nbsp;&nbsp;&nbsp;&nbsp;DNA index: ??\t(score)\n",
    "\n",
    "&nbsp;&nbsp;&nbsp;&nbsp;&nbsp;DNA index: ??\t(score)"
   ]
  },
  {
   "cell_type": "code",
   "execution_count": 18,
   "metadata": {},
   "outputs": [
    {
     "name": "stdout",
     "output_type": "stream",
     "text": [
      "total number of hits: 237\n",
      "DNA index: 453\t(10.787)\n",
      "DNA index: 53\t(9.939)\n",
      "DNA index: 64\t(9.939)\n",
      "DNA index: 498\t(9.65)\n",
      "DNA index: 380\t(9.409)\n",
      "DNA index: 89\t(9.164)\n",
      "DNA index: 273\t(8.913)\n",
      "DNA index: 42\t(8.802)\n",
      "DNA index: 164\t(8.802)\n",
      "DNA index: 443\t(8.802)\n",
      "DNA index: 323\t(8.672)\n",
      "DNA index: 179\t(8.561)\n",
      "DNA index: 309\t(8.561)\n",
      "DNA index: 80\t(8.427)\n",
      "DNA index: 91\t(8.316)\n",
      "DNA index: 215\t(8.316)\n",
      "DNA index: 279\t(8.316)\n",
      "DNA index: 480\t(8.316)\n",
      "DNA index: 82\t(8.271)\n",
      "DNA index: 108\t(8.271)\n",
      "DNA index: 16\t(8.271)\n",
      "DNA index: 3\t(8.186)\n",
      "DNA index: 298\t(8.186)\n",
      "DNA index: 407\t(8.186)\n",
      "DNA index: 5\t(8.075)\n",
      "DNA index: 31\t(8.075)\n",
      "DNA index: 75\t(8.075)\n",
      "DNA index: 86\t(8.075)\n",
      "DNA index: 143\t(8.065)\n",
      "DNA index: 436\t(8.065)\n",
      "DNA index: 158\t(8.027)\n",
      "DNA index: 249\t(8.027)\n",
      "DNA index: 259\t(7.824)\n",
      "DNA index: 213\t(7.786)\n",
      "DNA index: 493\t(7.786)\n",
      "DNA index: 300\t(7.786)\n",
      "DNA index: 378\t(7.786)\n",
      "DNA index: 8\t(7.664)\n",
      "DNA index: 95\t(7.664)\n",
      "DNA index: 207\t(7.664)\n",
      "DNA index: 36\t(7.579)\n",
      "DNA index: 460\t(7.579)\n",
      "DNA index: 495\t(7.579)\n",
      "DNA index: 283\t(7.534)\n",
      "DNA index: 175\t(7.534)\n",
      "DNA index: 221\t(7.534)\n",
      "DNA index: 284\t(7.534)\n",
      "DNA index: 120\t(7.423)\n",
      "DNA index: 196\t(7.423)\n",
      "DNA index: 333\t(7.423)\n",
      "DNA index: 341\t(7.423)\n",
      "DNA index: 394\t(7.423)\n",
      "DNA index: 486\t(7.423)\n",
      "DNA index: 489\t(7.423)\n",
      "DNA index: 18\t(7.338)\n",
      "DNA index: 116\t(7.338)\n",
      "DNA index: 291\t(7.338)\n",
      "DNA index: 400\t(7.338)\n",
      "DNA index: 398\t(7.29)\n",
      "DNA index: 470\t(7.29)\n",
      "DNA index: 385\t(7.179)\n",
      "DNA index: 57\t(7.134)\n",
      "DNA index: 119\t(7.134)\n",
      "DNA index: 238\t(7.049)\n",
      "DNA index: 359\t(7.049)\n",
      "DNA index: 29\t(7.049)\n",
      "DNA index: 71\t(7.049)\n",
      "DNA index: 307\t(7.049)\n",
      "DNA index: 361\t(7.049)\n",
      "DNA index: 468\t(6.938)\n",
      "DNA index: 225\t(6.938)\n",
      "DNA index: 487\t(6.938)\n",
      "DNA index: 328\t(6.927)\n",
      "DNA index: 302\t(6.893)\n",
      "DNA index: 84\t(6.808)\n",
      "DNA index: 286\t(6.808)\n",
      "DNA index: 455\t(6.808)\n",
      "DNA index: 24\t(6.797)\n",
      "DNA index: 463\t(6.797)\n",
      "DNA index: 13\t(6.686)\n",
      "DNA index: 94\t(6.686)\n",
      "DNA index: 188\t(6.686)\n",
      "DNA index: 233\t(6.686)\n",
      "DNA index: 240\t(6.686)\n",
      "DNA index: 46\t(6.686)\n",
      "DNA index: 99\t(6.686)\n",
      "DNA index: 124\t(6.686)\n",
      "DNA index: 150\t(6.686)\n",
      "DNA index: 349\t(6.686)\n",
      "DNA index: 368\t(6.686)\n",
      "DNA index: 372\t(6.686)\n",
      "DNA index: 412\t(6.686)\n",
      "DNA index: 141\t(6.648)\n",
      "DNA index: 296\t(6.648)\n",
      "DNA index: 434\t(6.648)\n",
      "DNA index: 268\t(6.556)\n",
      "DNA index: 274\t(6.556)\n",
      "DNA index: 218\t(6.553)\n",
      "DNA index: 257\t(6.553)\n",
      "DNA index: 135\t(6.445)\n",
      "DNA index: 465\t(6.445)\n",
      "DNA index: 128\t(6.442)\n",
      "DNA index: 387\t(6.442)\n",
      "DNA index: 73\t(6.407)\n",
      "DNA index: 236\t(6.407)\n",
      "DNA index: 130\t(6.397)\n",
      "DNA index: 219\t(6.397)\n",
      "DNA index: 282\t(6.397)\n",
      "DNA index: 337\t(6.397)\n",
      "DNA index: 420\t(6.397)\n",
      "DNA index: 69\t(6.312)\n",
      "DNA index: 231\t(6.312)\n",
      "DNA index: 134\t(6.286)\n",
      "DNA index: 182\t(6.286)\n",
      "DNA index: 227\t(6.286)\n",
      "DNA index: 262\t(6.286)\n",
      "DNA index: 153\t(6.201)\n",
      "DNA index: 156\t(6.201)\n",
      "DNA index: 202\t(6.201)\n",
      "DNA index: 204\t(6.201)\n",
      "DNA index: 210\t(6.201)\n",
      "DNA index: 482\t(6.201)\n",
      "DNA index: 288\t(6.201)\n",
      "DNA index: 409\t(6.201)\n",
      "DNA index: 251\t(6.201)\n",
      "DNA index: 428\t(6.201)\n",
      "DNA index: 432\t(6.201)\n",
      "DNA index: 406\t(6.19)\n",
      "DNA index: 41\t(6.156)\n",
      "DNA index: 102\t(6.156)\n",
      "DNA index: 242\t(6.156)\n",
      "DNA index: 438\t(6.156)\n",
      "DNA index: 168\t(6.156)\n",
      "DNA index: 244\t(6.071)\n",
      "DNA index: 208\t(5.96)\n",
      "DNA index: 325\t(5.96)\n",
      "DNA index: 382\t(5.96)\n",
      "DNA index: 185\t(5.949)\n",
      "DNA index: 393\t(5.949)\n",
      "DNA index: 399\t(5.949)\n",
      "DNA index: 431\t(5.949)\n",
      "DNA index: 103\t(5.949)\n",
      "DNA index: 113\t(5.949)\n",
      "DNA index: 121\t(5.949)\n",
      "DNA index: 314\t(5.949)\n",
      "DNA index: 344\t(5.911)\n",
      "DNA index: 347\t(5.911)\n",
      "DNA index: 405\t(5.911)\n",
      "DNA index: 458\t(5.911)\n",
      "DNA index: 478\t(5.911)\n",
      "DNA index: 402\t(5.8)\n",
      "DNA index: 411\t(5.755)\n",
      "DNA index: 373\t(5.708)\n",
      "DNA index: 499\t(5.708)\n",
      "DNA index: 106\t(5.67)\n",
      "DNA index: 223\t(5.67)\n",
      "DNA index: 327\t(5.67)\n",
      "DNA index: 329\t(5.67)\n",
      "DNA index: 331\t(5.67)\n",
      "DNA index: 392\t(5.67)\n",
      "DNA index: 426\t(5.67)\n",
      "DNA index: 149\t(5.66)\n",
      "DNA index: 258\t(5.66)\n",
      "DNA index: 332\t(5.66)\n",
      "DNA index: 371\t(5.66)\n",
      "DNA index: 462\t(5.66)\n",
      "DNA index: 246\t(5.559)\n",
      "DNA index: 363\t(5.559)\n",
      "DNA index: 21\t(5.549)\n",
      "DNA index: 38\t(5.549)\n",
      "DNA index: 58\t(5.549)\n",
      "DNA index: 112\t(5.549)\n",
      "DNA index: 167\t(5.549)\n",
      "DNA index: 169\t(5.549)\n",
      "DNA index: 197\t(5.549)\n",
      "DNA index: 214\t(5.549)\n",
      "DNA index: 303\t(5.549)\n",
      "DNA index: 345\t(5.549)\n",
      "DNA index: 356\t(5.549)\n",
      "DNA index: 415\t(5.549)\n",
      "DNA index: 471\t(5.549)\n",
      "DNA index: 473\t(5.549)\n",
      "DNA index: 494\t(5.549)\n",
      "DNA index: 10\t(5.464)\n",
      "DNA index: 161\t(5.464)\n",
      "DNA index: 209\t(5.464)\n",
      "DNA index: 388\t(5.464)\n",
      "DNA index: 447\t(5.464)\n",
      "DNA index: 448\t(5.464)\n",
      "DNA index: 483\t(5.464)\n",
      "DNA index: 488\t(5.464)\n",
      "DNA index: 39\t(5.464)\n",
      "DNA index: 440\t(5.464)\n",
      "DNA index: 52\t(5.419)\n",
      "DNA index: 289\t(5.419)\n",
      "DNA index: 318\t(5.419)\n",
      "DNA index: 416\t(5.419)\n",
      "DNA index: 423\t(5.419)\n",
      "DNA index: 464\t(5.419)\n",
      "DNA index: 28\t(5.308)\n",
      "DNA index: 98\t(5.308)\n",
      "DNA index: 192\t(5.308)\n",
      "DNA index: 278\t(5.308)\n",
      "DNA index: 374\t(5.308)\n",
      "DNA index: 275\t(5.308)\n",
      "DNA index: 424\t(5.308)\n",
      "DNA index: 439\t(5.308)\n",
      "DNA index: 472\t(5.308)\n",
      "DNA index: 430\t(5.27)\n",
      "DNA index: 59\t(5.223)\n",
      "DNA index: 342\t(5.223)\n",
      "DNA index: 12\t(5.174)\n",
      "DNA index: 51\t(5.174)\n",
      "DNA index: 62\t(5.174)\n",
      "DNA index: 148\t(5.174)\n",
      "DNA index: 166\t(5.174)\n",
      "DNA index: 173\t(5.174)\n",
      "DNA index: 390\t(5.174)\n",
      "DNA index: 33\t(5.063)\n",
      "DNA index: 77\t(5.063)\n",
      "DNA index: 162\t(5.063)\n",
      "DNA index: 186\t(5.063)\n",
      "DNA index: 190\t(5.063)\n",
      "DNA index: 211\t(5.063)\n",
      "DNA index: 247\t(5.063)\n",
      "DNA index: 253\t(5.063)\n",
      "DNA index: 255\t(5.063)\n",
      "DNA index: 265\t(5.063)\n",
      "DNA index: 294\t(5.063)\n",
      "DNA index: 365\t(5.063)\n",
      "DNA index: 404\t(5.063)\n",
      "DNA index: 476\t(5.063)\n",
      "DNA index: 491\t(5.063)\n",
      "DNA index: 44\t(5.018)\n",
      "DNA index: 313\t(5.018)\n",
      "DNA index: 316\t(5.018)\n",
      "DNA index: 442\t(5.018)\n"
     ]
    }
   ],
   "source": [
    "# DNA sequence to be scanned\n",
    "DNA_sequence = \"GTGTCGCGACAGCCCAGCATGATATCCTGAGGCGCTACGCCGACGGATGTCCCACGGAATTGCCACGGTAGCCGAGCGCTACGCGGGCGACACGAACTTATGTATGGAGCGGGCCGTCGAAAGGTCGTACCCTTGCAGTTAGCACGTAGCCCGGCCCCACTAGCACAGCAGTGCCTCGGGCGGCATCCTCATTATTAAGTTTTCTCTACAGCCAAACGACCAGGTGCGCTTCCGCGGAGCGCGGTGGAGACTCGCCCACCCGGCAGCTCTGTGACGGGGACTAAAGGGGCGATGATAATCGCGAGTGCCGCGTTATGGTGGTGTCGGGACAGAGCGGCCTTGCGGCCAGTCGTATCCCTTCTCGAGCTCCGTCCGGTTAAGCGTGACACCCCCAGCGTACCCGCAAACCGCGATGGCTGTGCTTGGGGTCGATCGCACGTAGGACGGTCCCCAACGTGAGACGCCGGGGCACCAGTTCTCACGCCCAAAGCATAAACGACGGGCAG\"\n",
    "\n",
    "# define empty list to store motif hits\n",
    "hits = []\n",
    "hit_threshold = 5.0\n",
    "\n",
    "# iterate of DNA sequence and scan for possible motifs in the sequence that match our PWM\n",
    "window_size = len(PWM)\n",
    "for DNA_index in range(0,len(DNA_sequence)-window_size):\n",
    "    window_nucleotides = DNA_sequence[DNA_index:DNA_index+window_size]\n",
    "    \n",
    "    # calculate the score of the window\n",
    "    score = 0.0\n",
    "    for position_index, nucleotide in enumerate(window_nucleotides):\n",
    "        nucleotide_index = nucleotides.index(nucleotide)\n",
    "        score += PWM[position_index][nucleotide_index]\n",
    "\n",
    "    if(score > hit_threshold):\n",
    "        hits.append(tuple([DNA_index,score]))\n",
    "        \n",
    "# print out hits to stdout\n",
    "print(\"total number of hits:\",len(hits))\n",
    "for index, score in sorted(hits, key = lambda x:float(x[1]), reverse = True):\n",
    "    print(\"DNA index: \"+str(index)+\"\\t(\"+str(round(score,3))+\")\")"
   ]
  },
  {
   "cell_type": "markdown",
   "metadata": {},
   "source": [
    "**BONUS (+5 marks)**: sort motif hits in descending order based on their score"
   ]
  }
 ],
 "metadata": {
  "kernelspec": {
   "display_name": "Python 3",
   "language": "python",
   "name": "python3"
  },
  "language_info": {
   "codemirror_mode": {
    "name": "ipython",
    "version": 3
   },
   "file_extension": ".py",
   "mimetype": "text/x-python",
   "name": "python",
   "nbconvert_exporter": "python",
   "pygments_lexer": "ipython3",
   "version": "3.6.1"
  }
 },
 "nbformat": 4,
 "nbformat_minor": 2
}
