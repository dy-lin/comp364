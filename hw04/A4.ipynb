{
 "cells": [
  {
   "cell_type": "markdown",
   "metadata": {},
   "source": [
    "# COMP 364 - Computer Tools for Life Sciences (Fall 2017) \n",
    "## Assignment #4 : Machine learning in cheminformatics\n",
    "### <span style=\"color:red\"> Due: Monday November 27th, 2017 at 11:59:59 pm </span>\n",
    "\n",
    "------\n",
    "\n",
    "In this COMP 364 assignment you will implement a machine-learned model to predict the **median toxic dose (TD$_{50}$)** of specific molecules for mice. The TD$_{50}$ is the dose of a chemical required to cause an expected toxic effect in 50% of cases. For more information about the TD$_{50}$, please see the following links:\n",
    "\n",
    "&nbsp;&nbsp;&nbsp;&nbsp;&nbsp;**TD$_{50}$ Wikipedia:** https://en.wikipedia.org/wiki/Median_toxic_dose\n",
    "\n",
    "&nbsp;&nbsp;&nbsp;&nbsp;&nbsp;**TD$_{50}$ Visual representation**: http://www.derangedphysiology.com/main/core-topics-intensive-care/critical-care-pharmacology/Chapter%202.1.7/median-doses-ld50-ed50-and-td50\n",
    "\n",
    "To begin, download the following machine learning toxicology dataset:\n",
    "\n",
    "&nbsp;&nbsp;&nbsp;&nbsp;&nbsp;**Chemical dataset:** ftp://ftp.ics.uci.edu/pub/baldig/learning/benigni/ISSCAN_v1a_774_10Dec04.sdf\n",
    "\n",
    "You will notice that the dataset is in an unusual file format, called a **'structure-data file' (SDF)**. An SDF file is a chemical table (describes molecules and chemical reactions) in a human-readable format. For more information, see:\n",
    "\n",
    "&nbsp;&nbsp;&nbsp;&nbsp;&nbsp;**SDF Wikipedia:** https://en.wikipedia.org/wiki/Chemical_table_file#SDF\n",
    "\n",
    "To parse this file format, we will need to update our Python 3 package manager, Anaconda, to include the RDKit module:\n",
    "\n",
    "&nbsp;&nbsp;&nbsp;&nbsp;&nbsp;**conda install -c** https://conda.anaconda.org/rdkit **rdkit**\n",
    "\n",
    "Helpful links/tutorials for the assignment overall:\n",
    "\n",
    "&nbsp;&nbsp;&nbsp;&nbsp;&nbsp;**NumPy API:** https://docs.scipy.org/doc/numpy-1.13.0/reference/\n",
    "\n",
    "&nbsp;&nbsp;&nbsp;&nbsp;&nbsp;**Matplotlib API:** https://matplotlib.org/2.0.2/api/index.html\n",
    "\n",
    "&nbsp;&nbsp;&nbsp;&nbsp;&nbsp;**RDKit API:** http://www.rdkit.org/docs/api/index.html\n",
    "\n",
    "&nbsp;&nbsp;&nbsp;&nbsp;&nbsp;**RDKit tutoral:** http://www.rdkit.org/docs/GettingStartedInPython.html\n",
    "\n",
    "------\n",
    "## Part 1 - feature array creation (30 marks)\n",
    "------\n",
    "\n",
    "Machine learning models learn from fixed-size feature array representations of data. In our case, we will use the RDKit Python module to parse the SDF file previously downloaded and then create an array of features for our future machine learning model to learn from.\n",
    "\n",
    "Start by reviewing the RDKit tutorial (above) and learn how to read a set of molecules from an SDF file."
   ]
  },
  {
   "cell_type": "code",
   "execution_count": 1,
   "metadata": {},
   "outputs": [
    {
     "name": "stdout",
     "output_type": "stream",
     "text": [
      "('Substance ID', 'Mouse_Female_Canc', 'SAL', 'Rat_Male_Canc', 'TD50_Rat', 'TD50_Mouse', 'Rat_Female_Canc', 'Canc', 'MolWeight', 'Mouse_Male_Canc', 'Mouse_Male_NTP', 'ChemName', 'Rat_Male_NTP', 'Reference', 'Formula', 'SMILES', 'Rat_Female_NTP', 'CAS', 'Mouse_Female_NTP', 'Synonyms')\n"
     ]
    }
   ],
   "source": [
    "# insert your code here\n",
    "from rdkit import Chem\n",
    "import numpy as np\n",
    "molecules = Chem.SDMolSupplier(\"ISSCAN_v1a_774_10Dec04.sdf\")\n",
    "name = tuple(molecules[0].GetPropNames())\n",
    "print(name)\n"
   ]
  },
  {
   "cell_type": "markdown",
   "metadata": {},
   "source": [
    "Now, using the RDKit API (link above), for each molecule read from the SDF file, determine:\n",
    "\n",
    "* the chemical name (i.e. '1,2-Dichloropropane')\n",
    "* the TD$_{50}$ for mouse in log$_{10}$ (**hint:** use the NumPy module for the log transformation)\n",
    "\n",
    "**Ignore any molecule that does not have a measured mouse TD$_{50}$.**\n",
    "\n",
    "Store TD$_{50}$ values in a multi-level Python dictionary, where:\n",
    "\n",
    "* the first-level's key is the molecule's chemical name\n",
    "* the second-level's key is `'target'`\n",
    "\n",
    "For example:\n",
    "\n",
    "``` Python\n",
    "print(molecule_dict[\"1,2-Dichloropropane\"])\n",
    "```\n",
    "\n",
    "Outputs: \n",
    "\n",
    "&nbsp;&nbsp;&nbsp;&nbsp;&nbsp;&nbsp;`{'target': 2.4409090820652177}`"
   ]
  },
  {
   "cell_type": "code",
   "execution_count": 2,
   "metadata": {
    "collapsed": true
   },
   "outputs": [],
   "source": [
    "# insert your code here\n",
    "#this is the one with the tuple without Hydrogens.\n",
    "molecule_dict = {}\n",
    "atom_symbols = [\"Br\",\"C\",\"Cl\",\"F\",\"H\",\"I\",\"N\",\"O\",\"P\",\"S\"]\n",
    "def get_feature_array(mol_obj):\n",
    "    \"\"\"returns a tuple with features\"\"\"\n",
    "    feature_list = []\n",
    "    master_dict = mol_obj.GetPropsAsDict()\n",
    "    if master_dict[\"MolWeight\"] != \"Unspecified \":\n",
    "        for i in range(10):\n",
    "            feature_list.append(0)\n",
    "        matched = mol_obj.GetAtoms()\n",
    "\n",
    "        for i in matched:\n",
    "            for index, atom in enumerate(atom_symbols):\n",
    "                if i.GetSymbol() == atom:\n",
    "                    feature_list[index]+=1\n",
    "                \n",
    "        mol_weight = master_dict[\"MolWeight\"]\n",
    "        feature_list.append(mol_weight)\n",
    "    return tuple(feature_list)\n",
    "for molecule in molecules:\n",
    "    if molecule is not None:\n",
    "        try:\n",
    "            temp = molecule.GetPropsAsDict()\n",
    "            if temp[\"TD50_Mouse\"] != \"ND\" and temp[\"TD50_Mouse\"] != \"NP\" and temp[\"MolWeight\"] != \"Unspecified \":\n",
    "                #TD50 = np.log10(temp[\"TD50_Mouse\"])\n",
    "                #email says not to use np.log10 but to change the scale of the graph \n",
    "                feature_array = get_feature_array(molecule)\n",
    "                chemical_name = temp[\"ChemName\"]\n",
    "                molecule_dict[chemical_name] = {'target': temp[\"TD50_Mouse\"]}\n",
    "                #molecule_dict[chemical_name] = {'target': TD50}\n",
    "                molecule_dict[chemical_name]['feature_array'] = feature_array\n",
    "        except UnicodeDecodeError:\n",
    "            continue\n",
    "#print(molecule_dict)\n",
    "    \n",
    "\n",
    "    "
   ]
  },
  {
   "cell_type": "markdown",
   "metadata": {},
   "source": [
    "Improve upon the code above and write an updated version below that adds a second key to the second-level of the Python dictionary, called `'feature_array'`.\n",
    "\n",
    "`'feature_array'` will point to a tuple containing an ordered list of features used to describe the current molecule.\n",
    "\n",
    "We will start by building a simple feature array based on the count of atoms in a molecule. The possible atom symbols for any molecule in the dataset are the following:\n",
    "\n",
    "``` Python\n",
    "atom_symbols = [\"Br\",\"C\",\"Cl\",\"F\",\"H\",\"I\",\"N\",\"O\",\"P\",\"S\"]\n",
    "```\n",
    "\n",
    "Your job is to build a function called '`get_feature_array`' that takes in an RDKit molecule object and returns an ordered tuple containing the counts of each atom symbol and mass for the current molecule. **You will need to read the RDKit API to learn the correct functions/methods to call.**\n",
    "\n",
    "``` Python\n",
    "def get_feature_array(mol_obj):\n",
    "    \"\"\"provide a useful docstring\"\"\"\n",
    "    feature_list = []\n",
    "    # insert your code here\n",
    "    \n",
    "    return tuple(feature_list)\n",
    "```\n",
    "\n",
    "For '1,2-Dichloropropane', your function should return the following:\n",
    "\n",
    "``` Python\n",
    "(0, 3, 2, 0, 6, 0, 0, 0, 0, 0, 112.98700000000001)\n",
    "```\n",
    "\n",
    "Store the returned tuple from '`get_feature_array`' in your Python dictionary appropriately.\n",
    "\n",
    "For example:\n",
    "\n",
    "``` Python\n",
    "molecule_dict[\"1,2-Dichloropropane\"][\"feature_array\"] = get_feature_array(curr_mol)\n",
    "```\n",
    "\n",
    "**Note:** when calculating the mass of a molecule, you must include the weight of Hydrogen ('H') atoms as well. The RDKit module does not provide a constant for the mass of 'H' and you should consider it to be the following:\n",
    "\n",
    "``` Python\n",
    "H_mass = 1.008\n",
    "```\n",
    "\n",
    "Iterate over the molecules read from the SDF file again and call your newly implemented '`get_feature_array`' function. Like before, store the returned tuple appropriately in the Python dictionary that you previously created (you should be overwriting the older tuple)."
   ]
  },
  {
   "cell_type": "code",
   "execution_count": 3,
   "metadata": {
    "collapsed": true
   },
   "outputs": [],
   "source": [
    "# define the mass of a 'H' atom\n",
    "H_mass = 1.008\n",
    "# all possible atoms in the dataset\n",
    "atom_symbols = [\"Br\",\"C\",\"Cl\",\"F\",\"H\",\"I\",\"N\",\"O\",\"P\",\"S\"]\n",
    "# insert your code here  \n",
    "def get_feature_array(mol_obj):\n",
    "    \"\"\"returns a tuple with features\"\"\"\n",
    "    feature_list = []\n",
    "    master_dict = mol_obj.GetPropsAsDict()\n",
    "    if master_dict[\"MolWeight\"] != \"Unspecified \":\n",
    "        for i in range(10):\n",
    "            feature_list.append(0)\n",
    "        matched = mol_obj.GetAtoms()\n",
    "        mol_weight = 0\n",
    "        for i in matched:\n",
    "            for index, atom in enumerate(atom_symbols):\n",
    "                if i.GetSymbol() == atom:\n",
    "                    feature_list[index]+=1\n",
    "                    if i.GetSymbol() == \"H\":\n",
    "                        mol_weight += H_mass\n",
    "                    else:\n",
    "                        mol_weight += i.GetMass()\n",
    "        feature_list.append(mol_weight)\n",
    "    return tuple(feature_list)\n",
    "\n",
    "for molecule in molecules:\n",
    "    if molecule is not None:\n",
    "        molecule = Chem.AddHs(molecule) #Adds Hydrogens of 1.008 to the molecule!\n",
    "        try:\n",
    "            temp = molecule.GetPropsAsDict()\n",
    "\n",
    "            if temp[\"TD50_Mouse\"] != \"ND\" and temp[\"TD50_Mouse\"] != \"NP\" and temp[\"MolWeight\"] != \"Unspecified \":\n",
    "                #TD50 = np.log10(temp[\"TD50_Mouse\"])\n",
    "                #in the email it said not to use log10 but to change scale of graph.\n",
    "                feature_array = get_feature_array(molecule)\n",
    "                chemical_name = temp[\"ChemName\"]\n",
    "                #molecule_dict[chemical_name] = {'target': TD50}\n",
    "                molecule_dict[chemical_name] = {'target': temp[\"TD50_Mouse\"]}\n",
    "                molecule_dict[chemical_name]['feature_array'] = feature_array\n",
    "        except UnicodeDecodeError:\n",
    "            continue\n",
    "#print(molecule_dict)\n"
   ]
  },
  {
   "cell_type": "markdown",
   "metadata": {},
   "source": [
    "Let's improve upon our basic feature array. \n",
    "\n",
    "Write an updated '`get_feature_array`' function below that returns an ordered tuple consisting of the following:\n",
    "\n",
    "1. positions 1-10 are the counts of atom symbols in the molecule\n",
    "2. position 11 is the mass of the molecule\n",
    "3. position 12 is the number of rings in the molecule\n",
    "4. positions 13-22 are the counts of atom symbols found within rings (i.e., aromatic atoms) of the molecule\n",
    "5. position 23 is the total mass of aromatic atoms in the molecule\n",
    "\n",
    "If you are unfamiliar with molecular aromaticity, please review the following link:\n",
    "\n",
    "&nbsp;&nbsp;&nbsp;&nbsp;&nbsp;**Aromaticity Wikiepedia:** https://en.wikipedia.org/wiki/Aromaticity\n",
    "\n",
    "For example, '`1-Amino-2-Methylanthraquinone`'s feature array would be:\n",
    "\n",
    "``` Python\n",
    "(0, 15, 0, 0, 11, 0, 1, 2, 0, 0, 237.25799999999995, 3, 0, 12, 0, 0, 6, 0, 0, 0, 0, 0, 150.17999999999998)\n",
    "```"
   ]
  },
  {
   "cell_type": "code",
   "execution_count": 4,
   "metadata": {
    "collapsed": true
   },
   "outputs": [],
   "source": [
    "# insert your code here\n",
    "def get_feature_array(mol_obj):\n",
    "    \"\"\"returns a tuple with features\"\"\"\n",
    "    feature_list = []\n",
    "    master_dict = mol_obj.GetPropsAsDict()\n",
    "    if master_dict[\"MolWeight\"] != \"Unspecified \":\n",
    "        for i in range(23):\n",
    "            feature_list.append(0)\n",
    "        matched = mol_obj.GetAtoms()\n",
    "        mol_weight = 0\n",
    "        for i in matched:\n",
    "            for index, atom in enumerate(atom_symbols):\n",
    "                if i.GetSymbol() == atom:\n",
    "                    feature_list[index]+=1\n",
    "                    if i.GetSymbol() == \"H\":\n",
    "                        mol_weight += H_mass\n",
    "                    else:\n",
    "                        mol_weight += i.GetMass()\n",
    "        feature_list[10] = mol_weight\n",
    "        temp = mol_obj.GetRingInfo()\n",
    "        feature_list[11] = temp.NumRings()\n",
    "        aromatic = mol_obj.GetAromaticAtoms()\n",
    "        aromatic_mass = 0\n",
    "        for i in aromatic:\n",
    "            for index, atom in enumerate(atom_symbols):\n",
    "                if i.GetSymbol() == atom:\n",
    "                    feature_list[index+12] +=1\n",
    "                    aromatic_mass += i.GetMass()\n",
    "        feature_list[22] = aromatic_mass\n",
    "    return tuple(feature_list)\n",
    "\n",
    "for molecule in molecules:\n",
    "    if molecule is not None:\n",
    "        molecule = Chem.AddHs(molecule) #Adds Hydrogens of 1.008 to the molecule!\n",
    "        try:\n",
    "            temp = molecule.GetPropsAsDict()\n",
    "        \n",
    "            if temp[\"TD50_Mouse\"] != \"ND\" and temp[\"TD50_Mouse\"] != \"NP\" and temp[\"MolWeight\"] != \"Unspecified \":\n",
    "                #TD50 = np.log10(temp[\"TD50_Mouse\"])\n",
    "                #in the email it said not to use log10 but to change scale of graph.\n",
    "                feature_array = get_feature_array(molecule)\n",
    "                chemical_name = temp[\"ChemName\"]\n",
    "                molecule_dict[chemical_name] = {'target': temp[\"TD50_Mouse\"]}\n",
    "                #molecule_dict[chemical_name] = {'target': TD50}\n",
    "                molecule_dict[chemical_name]['feature_array'] = feature_array\n",
    "        except UnicodeDecodeError:\n",
    "            continue\n",
    "#print(molecule_dict)"
   ]
  },
  {
   "cell_type": "markdown",
   "metadata": {
    "collapsed": true
   },
   "source": [
    "------\n",
    "## Part 2 - Matplotlib scatter plot (15 marks)\n",
    "------\n",
    "\n",
    "Now, let's build a useful visual for us to tell how well our machine learning models (that we will implement) are performing.\n",
    "\n",
    "Create a function called '`create_scatterplot`' that requires the following arguments:\n",
    "\n",
    "1. a list containing the x-values to be plotted\n",
    "2. a list containing the y-values to be plotted\n",
    "3. a string representing the plot's title\n",
    "4. a string representing the plot's x-axis label\n",
    "5. a string representing the plot's y-axis label\n",
    "\n",
    "And one optional key-word Boolean argument, called '`log_scale`', whose default value is `False`. If the function is called and `log_scale` is set to `True`, then the x- and y-axes should be log scaled.\n",
    "\n",
    "Your function's signature should be similar to the following:\n",
    "\n",
    "``` Python\n",
    "def create_scatterplot(x_vals, y_vals, title, x_label, y_label, log_scale=False):\n",
    "    \"\"\"provide a useful docstring\"\"\"\n",
    "    # insert your code here\n",
    "```\n",
    "\n",
    "**Remember to close your plot once you have finished displaying it.**\n",
    "\n",
    "Your `create_scatterplot()` function should also:\n",
    "\n",
    "* calculate a _Spearman correlation_ for the provided x- & y-values and display it within the plot (**hint:** see the SciPy API)\n",
    "* include a dashed-line to represent the plot's diagonal\n",
    "\n",
    "The plot's diagonal should be based on the minimum and maximum data values plotted. For example, if the range of x-values is 10 to 20 and the range of y-values is 100 to 110, your diagonal should start at (10, 10) and end at (110,110).\n",
    "\n",
    "For more information about correlations, please see the following links:\n",
    "\n",
    "&nbsp;&nbsp;&nbsp;&nbsp;&nbsp;**Correlation coefficients Wikipedia:** https://en.wikipedia.org/wiki/Correlation_coefficient\n",
    "\n",
    "&nbsp;&nbsp;&nbsp;&nbsp;&nbsp;**Spearman correlation Wikipedia:** https://en.wikipedia.org/wiki/Spearman%27s_rank_correlation_coefficient\n",
    "\n",
    "An example of the expected plot to be produced is shown below by calling `create_scatterplot()` using the _total count of atoms_ as the x-values and _molecular weight_ as the y-values.\n",
    "\n",
    "``` Python\n",
    "# iterate over dictionary keys extracting the total number of atoms (x) and mass (y) for each molecule\n",
    "x_vals,y_vals = [],[]\n",
    "for key in molecule_dict.keys():\n",
    "    x_vals.append(sum(molecule_dict[key][\"feature_array\"][:len(atom_symbols)]))\n",
    "    y_vals.append(molecule_dict[key][\"feature_array\"][10])\n",
    "\n",
    "create_scatterplot(x_vals,y_vals,\"Molecular weight vs. number of atoms\",\"Number of atoms in molecule\",\"Molecular weight (g/mol)\",True)\n",
    "```\n",
    "![example_scatterplot](http://cs.mcgill.ca/~cgonza11/COMP_364/Assignments/HW2_images/example_scatterplot.png)\n",
    "\n",
    "Helpful links:\n",
    "\n",
    "&nbsp;&nbsp;&nbsp;&nbsp;&nbsp;**Matplotlib API:** https://matplotlib.org/2.0.2/api/index.html\n",
    "\n",
    "&nbsp;&nbsp;&nbsp;&nbsp;&nbsp;**SciPy API:** https://docs.scipy.org/doc/scipy/reference/\n"
   ]
  },
  {
   "cell_type": "code",
   "execution_count": 5,
   "metadata": {},
   "outputs": [
    {
     "data": {
      "image/png": "[encoded data removed]",
      "text/plain": [
       "<matplotlib.figure.Figure at 0x117b79e10>"
      ]
     },
     "metadata": {},
     "output_type": "display_data"
    }
   ],
   "source": [
    "# insert your code here\n",
    "%matplotlib inline\n",
    "import matplotlib.pyplot as plt\n",
    "import scipy.stats as sp\n",
    "def create_scatterplot(x_vals, y_vals, title, x_label, y_label, log_scale=False):\n",
    "    if log_scale == True:\n",
    "        plt.loglog(x_vals,y_vals, 'bo')\n",
    "    else:\n",
    "        plt.plot(x_vals, y_vals, 'bo')\n",
    "    plt.title(title)\n",
    "    plt.xlabel(x_label)\n",
    "    plt.ylabel(y_label)\n",
    "    spearman = sp.spearmanr(x_vals,y_vals)\n",
    "    xmin = min(x_vals)\n",
    "    xmax = max(x_vals)\n",
    "    ymin = min(y_vals)\n",
    "    ymax = max(y_vals)\n",
    "    x = []\n",
    "    y = []\n",
    "    if xmin < ymin:\n",
    "        x.append(xmin)\n",
    "        y.append(xmin)\n",
    "    else:\n",
    "        x.append(ymin)\n",
    "        y.append(ymin)\n",
    "    if xmax > ymax:\n",
    "        x.append(xmax)\n",
    "        y.append(xmax)\n",
    "    else:\n",
    "        x.append(ymax)\n",
    "        y.append(ymax)\n",
    "    plt.plot(x,y,linestyle=\"dashed\")\n",
    "    coefficient = \"Spearman: \" + str(spearman[0]) + \"(\" + str(spearman[1]) + \")\"\n",
    "    plt.figtext(0.3,0.2,coefficient)\n",
    "    plt.show()\n",
    "    plt.close()\n",
    "\n",
    "x_vals,y_vals = [],[]\n",
    "for key in molecule_dict.keys():\n",
    "    x_vals.append(sum(molecule_dict[key][\"feature_array\"][:len(atom_symbols)]))\n",
    "    y_vals.append(molecule_dict[key][\"feature_array\"][10])\n",
    "    \n",
    "create_scatterplot(x_vals, y_vals,\"Molecular Weight vs. Number of atoms\", \"Number of atoms in molecule\", \"Molecular weight (g/mol)\")\n"
   ]
  },
  {
   "cell_type": "markdown",
   "metadata": {},
   "source": [
    "------\n",
    "## Part 3 - training a machine learning model (20 marks)\n",
    "------\n",
    "\n",
    "Using the Python's scikit-learn module, we will train a **decision tree** to learn the relationship between our feature array and target values (i.e., TD$_{50}$).\n",
    "\n",
    "If you are unfamiliar with decision trees (or would like to understand them better), we highly recommend the following tutorial:\n",
    "\n",
    "&nbsp;&nbsp;&nbsp;&nbsp;&nbsp;**Decision tree tutorial:** http://www.r2d3.us/visual-intro-to-machine-learning-part-1/\n",
    "\n",
    "Before we start to train our decision tree model, we need to split our data into _training_ and _testing_ datasets. The training dataset will be used to teach the decision tree how each feature (or combination of features) relate to the TD$_{50}$. The testing set will be used to measure the predictive accuracy (i.e., how close our decision tree's prediction is to the true TD$_{50}$ value) of our learned decision tree model.\n",
    "\n",
    "To simplify our code, we will use our Python dictionary's keys (i.e., chemical names) as data examples.\n",
    "\n",
    "Create a Python `list` variable called '`data`' and store the sorted keys of the dictionary within it."
   ]
  },
  {
   "cell_type": "code",
   "execution_count": 6,
   "metadata": {
    "collapsed": true
   },
   "outputs": [],
   "source": [
    "# insert your code here\n",
    "data = sorted(molecule_dict.keys())\n"
   ]
  },
  {
   "cell_type": "markdown",
   "metadata": {},
   "source": [
    "Review the scikit-learn API (below) and split the set of example chemical names (`data`) into training and testing datasets, where the training dataset contains 80% of examples (and testing represents the remaining 20% of examples).\n",
    "\n",
    "Helpful links/tutorials:\n",
    "\n",
    "&nbsp;&nbsp;&nbsp;&nbsp;&nbsp;**scikit-learn API:** http://scikit-learn.org/stable/modules/classes.html\n",
    "\n",
    "&nbsp;&nbsp;&nbsp;&nbsp;&nbsp;**scikit-learn tutorials:** http://scikit-learn.org/stable/"
   ]
  },
  {
   "cell_type": "code",
   "execution_count": 7,
   "metadata": {
    "collapsed": true,
    "scrolled": true
   },
   "outputs": [],
   "source": [
    "# insert your code here\n",
    "from sklearn import model_selection as sk\n",
    "\n",
    "test_train = sk.train_test_split(data, test_size=0.2, train_size = 0.8, shuffle=False,random_state=0)\n",
    "train = test_train[0]\n",
    "test = test_train[1]\n"
   ]
  },
  {
   "cell_type": "markdown",
   "metadata": {},
   "source": [
    "Now that we have split our example molecules into training (80%) and testing (20%), we will use the former dataset to train a decision tree regressor using the scikit-learn module.\n",
    "\n",
    "To train your model, you will need to create lists of _input_ and _output_ for the model, where:\n",
    "\n",
    "* each item in _input_ is a '`feature_array`' for each example from the training dataset\n",
    "* each item in _output_ is the paired '`target`' (i.e., TD$_{50}$ in log$_{10}$) for each item found within _input_\n",
    "\n",
    "You will then use these two lists to train a descision tree regressor implementation from scikit-learn.\n",
    "\n",
    "Write the necessary Python code to train a decision tree regressor to predict TD$_{50}$ values below."
   ]
  },
  {
   "cell_type": "code",
   "execution_count": 8,
   "metadata": {},
   "outputs": [
    {
     "data": {
      "text/plain": [
       "DecisionTreeRegressor(criterion='mse', max_depth=None, max_features=None,\n",
       "           max_leaf_nodes=None, min_impurity_decrease=0.0,\n",
       "           min_impurity_split=None, min_samples_leaf=1,\n",
       "           min_samples_split=2, min_weight_fraction_leaf=0.0,\n",
       "           presort=False, random_state=0, splitter='best')"
      ]
     },
     "execution_count": 8,
     "metadata": {},
     "output_type": "execute_result"
    }
   ],
   "source": [
    "# insert your code here\n",
    "from sklearn import model_selection\n",
    "from sklearn.tree import DecisionTreeRegressor\n",
    "input = []\n",
    "output = []\n",
    "for key in train:\n",
    "    currMol = molecule_dict[key]\n",
    "    input.append(list(currMol[\"feature_array\"]))\n",
    "    output.append(currMol[\"target\"])\n",
    "    \n",
    "tree = DecisionTreeRegressor(random_state=0)\n",
    "tree.fit(input,output)\n",
    "\n"
   ]
  },
  {
   "cell_type": "markdown",
   "metadata": {},
   "source": [
    "Now that you have a learned decision tree model, we can use it to predict on unforeseen examples (i.e., the testing dataset). \n",
    "\n",
    "Write the necessary Python code below to create a set of predictions from your learned model using the testing dataset."
   ]
  },
  {
   "cell_type": "code",
   "execution_count": 9,
   "metadata": {
    "collapsed": true
   },
   "outputs": [],
   "source": [
    "# insert your code here\n",
    "test_input = []\n",
    "test_output = []\n",
    "for key in test:\n",
    "    currMol = molecule_dict[key]\n",
    "    test_input.append(list(currMol[\"feature_array\"]))\n",
    "    test_output.append(currMol['target'])\n",
    "predicted = tree.predict(test_input)"
   ]
  },
  {
   "cell_type": "markdown",
   "metadata": {},
   "source": [
    "Using the scatterplot function that you have implemented above, plot a scatterplot representing the comparison of decision tree predicted and true TD$_{50}$ values for the _test_ dataset.\n",
    "\n",
    "Calculate the **mean squared error (MSE)** of predicted and true TD$_{50}$ values from the _test_ dataset (see the scikit-learn module API) and include it in your plot's title. Your plot should look similar to the following:\n",
    "\n",
    "![decision_tree_pred](http://cs.mcgill.ca/~cgonza11/COMP_364/Assignments/HW2_images/decision_tree_pred.png)"
   ]
  },
  {
   "cell_type": "code",
   "execution_count": 10,
   "metadata": {},
   "outputs": [
    {
     "data": {
      "image/png": "[encoded data removed]",
      "text/plain": [
       "<matplotlib.figure.Figure at 0x11d6575c0>"
      ]
     },
     "metadata": {},
     "output_type": "display_data"
    }
   ],
   "source": [
    "# insert your code here\n",
    "from sklearn.metrics import mean_squared_error\n",
    "true_vals = test_output\n",
    "\n",
    "#mse = mean_squared_error(true_vals, predicted)\n",
    "mse = mean_squared_error(np.log10(true_vals),np.log10(predicted))\n",
    "create_scatterplot(predicted, true_vals, \"TD50 prediction using a decision tree\\n MSE = \" +str(mse), \"Decision tree regressor predictions\", \"True values\", log_scale=True)"
   ]
  },
  {
   "cell_type": "markdown",
   "metadata": {},
   "source": [
    "**How well do you think your model is performing?**\n",
    "\n",
    "_In 3-4 sentences at most, explain the performance of your regressor based on your scatter plot/Spearman correlation above that compares predicted and true TD$_{50}$ values. (i.e., how accurate is your predictor? does there appear to be a relationship between the current model features and target values?)_"
   ]
  },
  {
   "cell_type": "markdown",
   "metadata": {},
   "source": [
    "**# insert your answer here**\n",
    "My model is not performing very well. It is not very accurate. The MSE is large, and not at all close to zero (differs each time I run it). The Spearman co efficient is always very close to zero (differs each time I run it), which is a weak correlation, since a Spearman coefficient of -1 is a perfectly negatively association and +1 is a perfect association, meaning that a co-efficient close to zero is a weak assocation to either side."
   ]
  },
  {
   "cell_type": "markdown",
   "metadata": {},
   "source": [
    "------\n",
    "## Part 4 - feature importance (15 marks)\n",
    "------\n",
    "\n",
    "Training machine learning models to learn the relationship between input and output can be quite useful.\n",
    "\n",
    "In biology (or similar fields), we are usually more interested in the significance of features used in the model (i.e., how important is a given feature to the predictive capabilities of a model?). In the case of this assignment, one could ask \"How important is the count of 'H' atoms to the model's ability to predict TD$_{50}$?\"\n",
    "\n",
    "Review the scikit-learn API/tutorial and learn how to extract 'feature importance' from your learned model.\n",
    "\n",
    "Write your own Python code below to sort model features by importance in a descending order and remove any features with an importance value of zero."
   ]
  },
  {
   "cell_type": "code",
   "execution_count": 11,
   "metadata": {
    "collapsed": true
   },
   "outputs": [],
   "source": [
    "# insert your code here\n",
    "x_axis = []\n",
    "for atom in atom_symbols:\n",
    "    x_axis.append(\"num \" +atom)\n",
    "x_axis.append(\"total mass\")\n",
    "x_axis.append(\"num rings\")\n",
    "for atom in atom_symbols:\n",
    "    x_axis.append(\"num aro \"+atom)\n",
    "x_axis.append(\"aro mass\")\n",
    "\n",
    "feature_dict = {}\n",
    "feat_imp = tree.feature_importances_ \n",
    "\n",
    "for feature,importances in zip(x_axis,feat_imp):\n",
    "    feature_dict[feature] = importances\n",
    "\n",
    "npsort = np.sort(feat_imp)\n",
    "npdesc = npsort[::-1]\n",
    "nparray = np.array(npdesc)\n",
    "final = np.trim_zeros(nparray, trim='b')\n",
    "#print(final)\n",
    "\n",
    "x_axis_sorted = []\n",
    "for i in final:\n",
    "    for key in feature_dict:\n",
    "        if feature_dict[key] == i:\n",
    "            x_axis_sorted.append(key)\n",
    "x_axis_sorted = tuple(x_axis_sorted)\n",
    "final = tuple(final)"
   ]
  },
  {
   "cell_type": "markdown",
   "metadata": {},
   "source": [
    "Create a function called '`create_barplot`' that displays feature importance of your regressor as a Matplotlib barplot, where the:\n",
    "\n",
    "* y-axis is the feature importance measure\n",
    "* x-axis is the features used in the model\n",
    "\n",
    "Your function's signature should be similar to the following:\n",
    "\n",
    "``` Python\n",
    "def create_barplot(x_labels,bar_heights):\n",
    "    \"\"\"provide a useful docstring\"\"\"\n",
    "```\n",
    "\n",
    "where `x_labels` is a list of strings to be used as the x-tick labels of the plot and `bar_heights` is a list containing the importance of each feature.\n",
    "\n",
    "Your plot should look similar to the following:\n",
    "\n",
    "![feature_importance](http://cs.mcgill.ca/~cgonza11/COMP_364/Assignments/HW2_images/feature_importance)\n",
    "\n",
    "Call your function and pass in the sorted features you created above."
   ]
  },
  {
   "cell_type": "code",
   "execution_count": 12,
   "metadata": {},
   "outputs": [
    {
     "data": {
      "image/png": "[encoded data removed]",
      "text/plain": [
       "<matplotlib.figure.Figure at 0x11d395550>"
      ]
     },
     "metadata": {},
     "output_type": "display_data"
    }
   ],
   "source": [
    "# insert your code here\n",
    "def create_barplot(x_labels,bar_heights):\n",
    "    x_bars = np.arange(len(x_labels))\n",
    "    plt.bar(x_bars,bar_heights, width=1,linewidth=1, edgecolor = \"black\", color=\"green\")\n",
    "    plt.xlabel(\"Feature\")\n",
    "    plt.xticks(np.arange(len(x_labels)),x_labels, rotation=\"vertical\")\n",
    "    plt.ylabel(\"Importance\")\n",
    "    plt.title(\"Feature importance for learned decision tree\")\n",
    "    plt.show()\n",
    "    plt.close()\n",
    "create_barplot(x_axis_sorted, final)\n"
   ]
  },
  {
   "cell_type": "markdown",
   "metadata": {},
   "source": [
    "------\n",
    "## Part 5 - open problem (20 marks)\n",
    "------\n",
    "\n",
    "In most machine learning problems, you do not know what the best model or feature array is. Researchers spend many months (to years) refining models to provide more accurate predictions.\n",
    "\n",
    "In parts 1-3, you followed the provided instructions to obtain a model for predicting TD$_{50}$ values in mice. \n",
    "\n",
    "For the remainder of this assignment, you will perform your own research and implement potential improvements to our predictive model of TD$_{50}$.\n",
    "\n",
    "Start by reviewing the RDKit API/tutorial and the following link:\n",
    "\n",
    "&nbsp;&nbsp;&nbsp;&nbsp;&nbsp;**Toxicity Wikipedia:** https://en.wikipedia.org/wiki/Toxicity\n",
    "\n",
    "### a) create and implement a new feature\n",
    "------\n",
    "\n",
    "Suggest a potential new feature that could lead to an improvement in machine learned model's predictions. Make sure you provide a rational argument and biological support (biological reasoning for it's importance) for your new feature. (_3-4 sentences at most_)"
   ]
  },
  {
   "cell_type": "markdown",
   "metadata": {},
   "source": [
    "**# insert your answer here** A new feature could be bond types in the molecules. Since aromatic mass and aromatic carbons were the most significant features shown in the above graph, bonds must play a role too, as most bonds are between carbons, either a linear backbone, or a ring of carbons. Not only this, the type of bond is usually indicative of stability, and the more stable a molecule is, the harder it is to break down in the body, leading to a higher TD50. I believe that aromatic bonds should be a significant feature in the next bar graph.\n",
    "\n"
   ]
  },
  {
   "cell_type": "markdown",
   "metadata": {},
   "source": [
    "Write a new '`get_feature_array()`' function below.\n",
    "\n",
    "This new function definition will include the addition of your new feature to the end of the '`feature_array`' for each chemical in the Python dictionary."
   ]
  },
  {
   "cell_type": "code",
   "execution_count": 13,
   "metadata": {
    "collapsed": true
   },
   "outputs": [],
   "source": [
    "def get_feature_array(mol_obj):\n",
    "    \"\"\"returns a tuple with features\"\"\"\n",
    "    feature_list = []\n",
    "    master_dict = mol_obj.GetPropsAsDict()\n",
    "    if master_dict[\"MolWeight\"] != \"Unspecified \":\n",
    "        for i in range(26):\n",
    "            feature_list.append(0)\n",
    "        matched = mol_obj.GetAtoms()\n",
    "        mol_weight = 0\n",
    "        for i in matched:\n",
    "            for index, atom in enumerate(atom_symbols):\n",
    "                if i.GetSymbol() == atom:\n",
    "                    feature_list[index]+=1\n",
    "                    if i.GetSymbol() == \"H\":\n",
    "                        mol_weight += H_mass\n",
    "                    else:\n",
    "                        mol_weight += i.GetMass()\n",
    "        feature_list[10] = mol_weight\n",
    "        temp = mol_obj.GetRingInfo()\n",
    "        feature_list[11] = temp.NumRings()\n",
    "        aromatic = mol_obj.GetAromaticAtoms()\n",
    "        aromatic_mass = 0\n",
    "        for i in aromatic:\n",
    "            for index, atom in enumerate(atom_symbols):\n",
    "                if i.GetSymbol() == atom:\n",
    "                    feature_list[index+12] +=1\n",
    "                    aromatic_mass += i.GetMass()\n",
    "        feature_list[22] = aromatic_mass\n",
    "        bonds = mol_obj.GetBonds()\n",
    "        for bond in bonds:\n",
    "            if bond.GetBondTypeAsDouble() == 1.0:\n",
    "                feature_list[23]+=1\n",
    "            if bond.GetBondTypeAsDouble() == 1.5:\n",
    "                feature_list[24]+=1\n",
    "            if bond.GetBondTypeAsDouble() == 2.0:\n",
    "                feature_list[25]+=1\n",
    "    return tuple(feature_list)\n",
    "\n",
    "for molecule in molecules:\n",
    "    if molecule is not None:\n",
    "        molecule = Chem.AddHs(molecule) #Adds Hydrogens of 1.008 to the molecule!\n",
    "        try:\n",
    "            temp = molecule.GetPropsAsDict()\n",
    "            \n",
    "            if temp[\"TD50_Mouse\"] != \"ND\" and temp[\"TD50_Mouse\"] != \"NP\" and temp[\"MolWeight\"] != \"Unspecified \":\n",
    "                #TD50 = np.log10(temp[\"TD50_Mouse\"])\n",
    "                #in the email it said not to use log10 but to change scale of graph.\n",
    "                feature_array = get_feature_array(molecule)\n",
    "                chemical_name = temp[\"ChemName\"]\n",
    "                molecule_dict[chemical_name] = {'target': temp[\"TD50_Mouse\"]}\n",
    "                #molecule_dict[chemical_name] = {'target': TD50}\n",
    "                molecule_dict[chemical_name]['feature_array'] = feature_array\n",
    "                #print(feature_array)\n",
    "        except UnicodeDecodeError:\n",
    "            continue\n",
    "#print(molecule_dict)"
   ]
  },
  {
   "cell_type": "markdown",
   "metadata": {},
   "source": [
    "Train a decision tree regressor on the new feature array and create a scatterplot that compares the model prediction's against the true values (**hint:** reuse your _train_ and _test_ datasets from before)."
   ]
  },
  {
   "cell_type": "code",
   "execution_count": 14,
   "metadata": {},
   "outputs": [
    {
     "data": {
      "image/png": "[encoded data removed]",
      "text/plain": [
       "<matplotlib.figure.Figure at 0x11d39b2e8>"
      ]
     },
     "metadata": {},
     "output_type": "display_data"
    }
   ],
   "source": [
    "# insert your code here\n",
    "input_new = []\n",
    "output_new = []\n",
    "for key in train:\n",
    "    currMol = molecule_dict[key]\n",
    "    input_new.append(list(currMol[\"feature_array\"]))\n",
    "    output_new.append(currMol[\"target\"])\n",
    "input_new = tuple(input_new)\n",
    "output_new = tuple(output_new)\n",
    "tree_new = DecisionTreeRegressor(random_state=0)\n",
    "tree_new.fit(input_new,output_new)\n",
    "\n",
    "test_input_new = []\n",
    "test_output_new = []\n",
    "for key in test:\n",
    "    currMol = molecule_dict[key]\n",
    "    test_input_new.append(list(currMol[\"feature_array\"]))\n",
    "    test_output_new.append(currMol['target'])\n",
    "predicted_new = tree_new.predict(test_input_new)\n",
    "\n",
    "test_input_new = tuple(test_input_new)\n",
    "test_output_new = tuple(test_output_new)\n",
    "true_vals_new = test_output_new\n",
    "\n",
    "#mse = mean_squared_error(true_vals, predicted)\n",
    "mse = mean_squared_error(np.log10(true_vals_new),np.log10(predicted_new))\n",
    "create_scatterplot(predicted_new, true_vals_new, \"TD50 prediction using a decision tree\\n MSE = \" +str(mse), \"Decision tree regressor predictions\", \"True values\", log_scale=True)\n",
    "\n"
   ]
  },
  {
   "cell_type": "markdown",
   "metadata": {},
   "source": [
    "**Has your model's performance improved?** (_3-4 sentences at most_)"
   ]
  },
  {
   "cell_type": "markdown",
   "metadata": {},
   "source": [
    "**# insert your answer here** It has improved. The MSE has gone down. The spearman coefficient has gone down, closer to -1, which means a negative correlation, but better than a weak correlation close to zero. It has improved, but not by much. "
   ]
  },
  {
   "cell_type": "markdown",
   "metadata": {},
   "source": [
    "Create a barplot (like before) of your new model's feature importance.\n",
    "\n",
    "Remember to sort your features by importance in a descending order and remove any feature that has no importance attributed to it."
   ]
  },
  {
   "cell_type": "code",
   "execution_count": 15,
   "metadata": {},
   "outputs": [
    {
     "data": {
      "image/png": "[encoded data removed]",
      "text/plain": [
       "<matplotlib.figure.Figure at 0x11daf6208>"
      ]
     },
     "metadata": {},
     "output_type": "display_data"
    }
   ],
   "source": [
    "# insert your code here\n",
    "x_axis_new = []\n",
    "for atom in atom_symbols:\n",
    "    x_axis_new.append(\"num \" +atom)\n",
    "x_axis_new.append(\"total mass\")\n",
    "x_axis_new.append(\"num rings\")\n",
    "for atom in atom_symbols:\n",
    "    x_axis_new.append(\"num aro \"+atom)\n",
    "x_axis_new.append(\"aro mass\")\n",
    "x_axis_new.append(\"num single bonds\")\n",
    "x_axis_new.append(\"num aromatic bonds\")\n",
    "x_axis_new.append(\"num double bonds\")\n",
    "x_axis_new = tuple(x_axis_new)\n",
    "\n",
    "#print(x_axis_new)\n",
    "feature_dict_new = {}\n",
    "feat_imp_new = tree_new.feature_importances_ \n",
    "\n",
    "#print(feat_imp_new)\n",
    "for feature,importances in zip(x_axis_new,feat_imp_new):\n",
    "    feature_dict_new[feature] = importances\n",
    "\n",
    "npsort_new = np.sort(feat_imp_new)\n",
    "npdesc_new = npsort_new[::-1]\n",
    "nparray_new = np.array(npdesc_new)\n",
    "final_new = np.trim_zeros(nparray_new, trim='b')\n",
    "#print(final)\n",
    "\n",
    "x_axis_sorted_new = []\n",
    "for i in final_new:\n",
    "    for key in feature_dict_new:\n",
    "        if feature_dict_new[key] == i:\n",
    "            x_axis_sorted_new.append(key)\n",
    "x_axis_sorted_new = tuple(x_axis_sorted_new)\n",
    "final_new = tuple(final_new)\n",
    "# print(final_new)\n",
    "# print(x_axis_sorted_new)\n",
    "\n",
    "create_barplot(x_axis_sorted_new, final_new)"
   ]
  },
  {
   "cell_type": "markdown",
   "metadata": {},
   "source": [
    "**How has your new feature performed? Was it considered to be significant by the machine learning algorithm?** (_3-4 sentences at most_)"
   ]
  },
  {
   "cell_type": "markdown",
   "metadata": {},
   "source": [
    "**# insert your answer here** It has performed better than before. All three features have made it on the list (did NOT have zero feature importance), and of the three, number of aromatic bonds is the most important feature, with single and double bonds trailing not far behind. The features I have chosen have been considered significant."
   ]
  },
  {
   "cell_type": "markdown",
   "metadata": {},
   "source": [
    "### b) implement a different model\n",
    "------\n",
    "\n",
    "Review the scikit-learn API and suggest a new machine learning model architecture (different than the decision tree) to implement using Python scikit-learn module.\n",
    "\n",
    "Provide a rational argument for why you expect this model to provide improved predictions for the TD$_{50}$ problem. (_3-4 sentences at most_)"
   ]
  },
  {
   "cell_type": "markdown",
   "metadata": {},
   "source": [
    "**# insert your answer here** I have chosen the RandomForestRegressor(). This Regressor is supposed to fit many  decision tree regressors and use averaging to improve the accuracy of predictions and prevent over-fitting. Taking the average of anything in general is will omit outlying data and focus the precision of the algorithm. Using the forest should decrease the MSE and hopefully bring the Spearman coefficient closer to 1."
   ]
  },
  {
   "cell_type": "markdown",
   "metadata": {},
   "source": [
    "Implement your new machine learning model architecture using the feature array you just created (i.e., with the additional feature) and create a scatterplot comparing it's predictions to the true TD$_{50}$ values."
   ]
  },
  {
   "cell_type": "code",
   "execution_count": 16,
   "metadata": {},
   "outputs": [
    {
     "data": {
      "image/png": "[encoded data removed]",
      "text/plain": [
       "<matplotlib.figure.Figure at 0x11daefc88>"
      ]
     },
     "metadata": {},
     "output_type": "display_data"
    },
    {
     "name": "stdout",
     "output_type": "stream",
     "text": [
      "For comparison: the original decision tree from Part 3 is below.\n"
     ]
    },
    {
     "data": {
      "image/png": "[encoded data removed]",
      "text/plain": [
       "<matplotlib.figure.Figure at 0x11db12b38>"
      ]
     },
     "metadata": {},
     "output_type": "display_data"
    }
   ],
   "source": [
    "# insert your code here\n",
    "from sklearn.ensemble import RandomForestRegressor\n",
    "\n",
    "forest = RandomForestRegressor(random_state=0)\n",
    "forest.fit(input_new, output_new)\n",
    "predicted_final = forest.predict(test_input_new)\n",
    "\n",
    "#mse = mean_squared_error(true_vals, predicted)\n",
    "mse = mean_squared_error(np.log10(true_vals_new),np.log10(predicted_final))\n",
    "create_scatterplot(predicted_final, true_vals_new, \"TD50 prediction using a forest regressor\\n MSE = \" +str(mse), \"Random forest regressor predictions\", \"True values\", log_scale=True)\n",
    "\n",
    "# print(\"For comparison: the new feature decision tree is below.\")\n",
    "# mse = mean_squared_error(np.log10(true_vals_new),np.log10(predicted_new))\n",
    "# create_scatterplot(predicted_new, true_vals_new, \"TD50 prediction using a decision tree\\n MSE = \" +str(mse), \"Decision tree regressor predictions\", \"True values\", log_scale=True)\n",
    "\n",
    "\n",
    "print(\"For comparison: the original decision tree from Part 3 is below.\")\n",
    "mse = mean_squared_error(np.log10(true_vals),np.log10(predicted))\n",
    "create_scatterplot(predicted, true_vals, \"TD50 prediction using original decision tree\\n MSE = \" +str(mse), \"Decision tree regressor predictions\", \"True values\", log_scale=True)"
   ]
  },
  {
   "cell_type": "markdown",
   "metadata": {
    "collapsed": true
   },
   "source": [
    "** Has your new machine learning model outperformed the original decision tree implementation from parts 3-4? Support your answer. ** (_3-4 sentences at most_) "
   ]
  },
  {
   "cell_type": "markdown",
   "metadata": {},
   "source": [
    "**# insert your answer here** The MSE has decreased drastically which is better, but not decreased as much as I expected it to. The Spearman coefficient has however, increased more and is not as close to zero as before (much closer to 1) than originally. The new machine has outperformed the original decision tree implementation from part 3, but not as much as I anticipated."
   ]
  },
  {
   "cell_type": "code",
   "execution_count": null,
   "metadata": {
    "collapsed": true
   },
   "outputs": [],
   "source": []
  }
 ],
 "metadata": {
  "kernelspec": {
   "display_name": "Python 3",
   "language": "python",
   "name": "python3"
  },
  "language_info": {
   "codemirror_mode": {
    "name": "ipython",
    "version": 3
   },
   "file_extension": ".py",
   "mimetype": "text/x-python",
   "name": "python",
   "nbconvert_exporter": "python",
   "pygments_lexer": "ipython3",
   "version": "3.6.1"
  }
 },
 "nbformat": 4,
 "nbformat_minor": 2
}
